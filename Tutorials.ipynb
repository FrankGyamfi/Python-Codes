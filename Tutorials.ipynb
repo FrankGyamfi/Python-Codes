{
 "cells": [
  {
   "cell_type": "markdown",
   "id": "5bda2a9e",
   "metadata": {},
   "source": [
    "# My First Time with Python"
   ]
  },
  {
   "cell_type": "code",
   "execution_count": 1,
   "id": "2795fd2e",
   "metadata": {},
   "outputs": [
    {
     "name": "stdout",
     "output_type": "stream",
     "text": [
      "Hello World\n"
     ]
    }
   ],
   "source": [
    "print ('Hello World')"
   ]
  },
  {
   "cell_type": "markdown",
   "id": "51b9abc8",
   "metadata": {},
   "source": [
    "#My Code"
   ]
  },
  {
   "cell_type": "markdown",
   "id": "714f0b0d",
   "metadata": {},
   "source": [
    "# My Code"
   ]
  },
  {
   "cell_type": "markdown",
   "id": "d9a6ea90",
   "metadata": {},
   "source": [
    "x='Eat'\n",
    "Print(x)"
   ]
  },
  {
   "cell_type": "code",
   "execution_count": 2,
   "id": "65b8fb53",
   "metadata": {},
   "outputs": [
    {
     "name": "stdout",
     "output_type": "stream",
     "text": [
      "Eat\n"
     ]
    }
   ],
   "source": [
    "x= 'Eat'\n",
    "print(x)"
   ]
  },
  {
   "cell_type": "code",
   "execution_count": 3,
   "id": "ff19ce29",
   "metadata": {},
   "outputs": [
    {
     "name": "stdout",
     "output_type": "stream",
     "text": [
      "Eat23\n"
     ]
    }
   ],
   "source": [
    "x='Eat23'\n",
    "print(x)"
   ]
  },
  {
   "cell_type": "markdown",
   "id": "67349491",
   "metadata": {},
   "source": [
    "# Learning types of variables"
   ]
  },
  {
   "cell_type": "code",
   "execution_count": 4,
   "id": "3fd52c78",
   "metadata": {},
   "outputs": [
    {
     "data": {
      "text/plain": [
       "str"
      ]
     },
     "execution_count": 4,
     "metadata": {},
     "output_type": "execute_result"
    }
   ],
   "source": [
    "type(x)"
   ]
  },
  {
   "cell_type": "code",
   "execution_count": 2,
   "id": "36fb0400",
   "metadata": {},
   "outputs": [
    {
     "data": {
      "text/plain": [
       "int"
      ]
     },
     "execution_count": 2,
     "metadata": {},
     "output_type": "execute_result"
    }
   ],
   "source": [
    "type(1)"
   ]
  },
  {
   "cell_type": "code",
   "execution_count": 3,
   "id": "461cdcc8",
   "metadata": {},
   "outputs": [
    {
     "data": {
      "text/plain": [
       "float"
      ]
     },
     "execution_count": 3,
     "metadata": {},
     "output_type": "execute_result"
    }
   ],
   "source": [
    "type (0.01)"
   ]
  },
  {
   "cell_type": "code",
   "execution_count": 5,
   "id": "11578ee3",
   "metadata": {},
   "outputs": [
    {
     "data": {
      "text/plain": [
       "str"
      ]
     },
     "execution_count": 5,
     "metadata": {},
     "output_type": "execute_result"
    }
   ],
   "source": [
    "type('a1')"
   ]
  },
  {
   "cell_type": "markdown",
   "id": "e2efa089",
   "metadata": {},
   "source": [
    "# Assigning Variables "
   ]
  },
  {
   "cell_type": "code",
   "execution_count": 5,
   "id": "5e62a6cb",
   "metadata": {},
   "outputs": [
    {
     "name": "stdout",
     "output_type": "stream",
     "text": [
      "Eat Action Sleep\n"
     ]
    }
   ],
   "source": [
    "x,y,z='Eat', 'Action', 'Sleep'\n",
    "print(x,y,z)"
   ]
  },
  {
   "cell_type": "code",
   "execution_count": 6,
   "id": "33e93482",
   "metadata": {},
   "outputs": [
    {
     "name": "stdout",
     "output_type": "stream",
     "text": [
      "hut\n"
     ]
    }
   ],
   "source": [
    "x=\"hut\"\n",
    "print(x)"
   ]
  },
  {
   "cell_type": "code",
   "execution_count": 7,
   "id": "93ce1615",
   "metadata": {},
   "outputs": [
    {
     "name": "stdout",
     "output_type": "stream",
     "text": [
      "Eat, Action, Sleep\n"
     ]
    }
   ],
   "source": [
    "xyz='Eat, Action, Sleep'\n",
    "print(xyz)"
   ]
  },
  {
   "cell_type": "code",
   "execution_count": 8,
   "id": "2bee8e5b",
   "metadata": {},
   "outputs": [
    {
     "name": "stdout",
     "output_type": "stream",
     "text": [
      "i am going to eat\n"
     ]
    }
   ],
   "source": [
    "xyz='i am going to eat'\n",
    "print(xyz)"
   ]
  },
  {
   "cell_type": "markdown",
   "id": "9bef2ec4",
   "metadata": {},
   "source": [
    "# Creating Lists"
   ]
  },
  {
   "cell_type": "code",
   "execution_count": 6,
   "id": "cfac549e",
   "metadata": {},
   "outputs": [
    {
     "name": "stdout",
     "output_type": "stream",
     "text": [
      "Rice\n",
      "Yam\n",
      "Mangoes\n",
      "24 Mangoes\n"
     ]
    }
   ],
   "source": [
    "food=['Rice','Yam', 'Mangoes']\n",
    "x,y,z=food\n",
    "print(x)\n",
    "print(y)\n",
    "print(z)\n",
    "\n",
    "p=24\n",
    "\n",
    "print(p, z)"
   ]
  },
  {
   "cell_type": "code",
   "execution_count": 10,
   "id": "bfe3b26c",
   "metadata": {},
   "outputs": [
    {
     "name": "stdout",
     "output_type": "stream",
     "text": [
      "24 Mangoes\n"
     ]
    }
   ],
   "source": [
    "print(p, z)\n"
   ]
  },
  {
   "cell_type": "code",
   "execution_count": 11,
   "id": "8dc5c273",
   "metadata": {},
   "outputs": [
    {
     "name": "stdout",
     "output_type": "stream",
     "text": [
      "(2+2j)\n"
     ]
    }
   ],
   "source": [
    "j=10\n",
    "print(2+2j)\n",
    "\n",
    "\n"
   ]
  },
  {
   "cell_type": "code",
   "execution_count": 12,
   "id": "5d05002f",
   "metadata": {},
   "outputs": [
    {
     "name": "stdout",
     "output_type": "stream",
     "text": [
      "10\n"
     ]
    }
   ],
   "source": [
    "print(j)"
   ]
  },
  {
   "cell_type": "markdown",
   "id": "ad93291d",
   "metadata": {},
   "source": [
    "# Difference between tuple and lists"
   ]
  },
  {
   "cell_type": "code",
   "execution_count": 13,
   "id": "226b8fee",
   "metadata": {},
   "outputs": [],
   "source": [
    "foods=('yam','kiwi','mya')"
   ]
  },
  {
   "cell_type": "code",
   "execution_count": 14,
   "id": "7d9ebb81",
   "metadata": {},
   "outputs": [
    {
     "data": {
      "text/plain": [
       "tuple"
      ]
     },
     "execution_count": 14,
     "metadata": {},
     "output_type": "execute_result"
    }
   ],
   "source": [
    "type(foods)"
   ]
  },
  {
   "cell_type": "code",
   "execution_count": 15,
   "id": "c4a1bdc5",
   "metadata": {},
   "outputs": [],
   "source": [
    "gogle=['hini','maha', 'gna']"
   ]
  },
  {
   "cell_type": "code",
   "execution_count": 16,
   "id": "f25f947f",
   "metadata": {},
   "outputs": [
    {
     "data": {
      "text/plain": [
       "list"
      ]
     },
     "execution_count": 16,
     "metadata": {},
     "output_type": "execute_result"
    }
   ],
   "source": [
    "type(gogle)"
   ]
  },
  {
   "cell_type": "code",
   "execution_count": 17,
   "id": "3dec720a",
   "metadata": {},
   "outputs": [],
   "source": [
    "gogle.append('jack')"
   ]
  },
  {
   "cell_type": "code",
   "execution_count": 18,
   "id": "d149a93a",
   "metadata": {},
   "outputs": [
    {
     "name": "stdout",
     "output_type": "stream",
     "text": [
      "['hini', 'maha', 'gna', 'jack']\n"
     ]
    }
   ],
   "source": [
    "print(gogle)"
   ]
  },
  {
   "cell_type": "code",
   "execution_count": 19,
   "id": "4723a23e",
   "metadata": {},
   "outputs": [
    {
     "data": {
      "text/plain": [
       "['hini', 'maha', 'gna', 'jack']"
      ]
     },
     "execution_count": 19,
     "metadata": {},
     "output_type": "execute_result"
    }
   ],
   "source": [
    "gogle"
   ]
  },
  {
   "cell_type": "markdown",
   "id": "62064262",
   "metadata": {},
   "source": [
    "# Creating Libraries"
   ]
  },
  {
   "cell_type": "code",
   "execution_count": 20,
   "id": "ffe45576",
   "metadata": {},
   "outputs": [],
   "source": [
    "leisure_jobs={'job':'Cleaning', 'food':'Yam', 'house':'apata'}"
   ]
  },
  {
   "cell_type": "code",
   "execution_count": 21,
   "id": "1d3ba022",
   "metadata": {},
   "outputs": [
    {
     "data": {
      "text/plain": [
       "{'job': 'Cleaning', 'food': 'Yam', 'house': 'apata'}"
      ]
     },
     "execution_count": 21,
     "metadata": {},
     "output_type": "execute_result"
    }
   ],
   "source": [
    "leisure_jobs"
   ]
  },
  {
   "cell_type": "code",
   "execution_count": 22,
   "id": "2de5d5c9",
   "metadata": {},
   "outputs": [],
   "source": [
    "leisure_jobs['job']='Eating'"
   ]
  },
  {
   "cell_type": "code",
   "execution_count": 23,
   "id": "1b630724",
   "metadata": {},
   "outputs": [
    {
     "data": {
      "text/plain": [
       "{'job': 'Eating', 'food': 'Yam', 'house': 'apata'}"
      ]
     },
     "execution_count": 23,
     "metadata": {},
     "output_type": "execute_result"
    }
   ],
   "source": [
    "leisure_jobs"
   ]
  },
  {
   "cell_type": "code",
   "execution_count": 24,
   "id": "1d698efa",
   "metadata": {},
   "outputs": [
    {
     "data": {
      "text/plain": [
       "dict_items([('job', 'Eating'), ('food', 'Yam'), ('house', 'apata')])"
      ]
     },
     "execution_count": 24,
     "metadata": {},
     "output_type": "execute_result"
    }
   ],
   "source": [
    "leisure_jobs.items()"
   ]
  },
  {
   "cell_type": "code",
   "execution_count": 25,
   "id": "a682f409",
   "metadata": {},
   "outputs": [
    {
     "data": {
      "text/plain": [
       "dict_keys(['job', 'food', 'house'])"
      ]
     },
     "execution_count": 25,
     "metadata": {},
     "output_type": "execute_result"
    }
   ],
   "source": [
    "leisure_jobs.keys()"
   ]
  },
  {
   "cell_type": "code",
   "execution_count": 26,
   "id": "47f7fe4f",
   "metadata": {},
   "outputs": [],
   "source": [
    "leisure_jobs.update({'job': 'Cleaning', 'food': 'Yam', 'house': 'apata', 'weight':'20pounds'})"
   ]
  },
  {
   "cell_type": "code",
   "execution_count": 27,
   "id": "a08942db",
   "metadata": {},
   "outputs": [],
   "source": [
    "leisure_jobs.update({'number':2345})"
   ]
  },
  {
   "cell_type": "code",
   "execution_count": 28,
   "id": "cc75221b",
   "metadata": {},
   "outputs": [
    {
     "data": {
      "text/plain": [
       "{'job': 'Cleaning',\n",
       " 'food': 'Yam',\n",
       " 'house': 'apata',\n",
       " 'weight': '20pounds',\n",
       " 'number': 2345}"
      ]
     },
     "execution_count": 28,
     "metadata": {},
     "output_type": "execute_result"
    }
   ],
   "source": [
    "leisure_jobs"
   ]
  },
  {
   "cell_type": "code",
   "execution_count": 29,
   "id": "2458a5cb",
   "metadata": {},
   "outputs": [
    {
     "data": {
      "text/plain": [
       "2345"
      ]
     },
     "execution_count": 29,
     "metadata": {},
     "output_type": "execute_result"
    }
   ],
   "source": [
    "leisure_jobs['number']"
   ]
  },
  {
   "cell_type": "raw",
   "id": "173fa7c9",
   "metadata": {},
   "source": [
    "leisure_jobs.keys()"
   ]
  },
  {
   "cell_type": "code",
   "execution_count": 30,
   "id": "318734fc",
   "metadata": {},
   "outputs": [
    {
     "data": {
      "text/plain": [
       "dict_keys(['job', 'food', 'house', 'weight', 'number'])"
      ]
     },
     "execution_count": 30,
     "metadata": {},
     "output_type": "execute_result"
    }
   ],
   "source": [
    "leisure_jobs.keys()"
   ]
  },
  {
   "cell_type": "code",
   "execution_count": 31,
   "id": "887a87f7",
   "metadata": {},
   "outputs": [
    {
     "data": {
      "text/plain": [
       "<function dict.values>"
      ]
     },
     "execution_count": 31,
     "metadata": {},
     "output_type": "execute_result"
    }
   ],
   "source": [
    "leisure_jobs.values"
   ]
  },
  {
   "cell_type": "code",
   "execution_count": 32,
   "id": "e24c5d03",
   "metadata": {},
   "outputs": [
    {
     "data": {
      "text/plain": [
       "dict_values(['Cleaning', 'Yam', 'apata', '20pounds', 2345])"
      ]
     },
     "execution_count": 32,
     "metadata": {},
     "output_type": "execute_result"
    }
   ],
   "source": [
    "leisure_jobs.values()"
   ]
  },
  {
   "cell_type": "code",
   "execution_count": 7,
   "id": "448d19ce",
   "metadata": {},
   "outputs": [
    {
     "ename": "TypeError",
     "evalue": "unsupported operand type(s) for |: 'str' and 'str'",
     "output_type": "error",
     "traceback": [
      "\u001b[1;31m---------------------------------------------------------------------------\u001b[0m",
      "\u001b[1;31mTypeError\u001b[0m                                 Traceback (most recent call last)",
      "Cell \u001b[1;32mIn[7], line 1\u001b[0m\n\u001b[1;32m----> 1\u001b[0m \u001b[38;5;28mprint\u001b[39m(\u001b[38;5;124;43m'\u001b[39;49m\u001b[38;5;124;43mmustknow\u001b[39;49m\u001b[38;5;124;43m'\u001b[39;49m\u001b[38;5;241;43m|\u001b[39;49m\u001b[38;5;124;43m'\u001b[39;49m\u001b[38;5;124;43mgetto\u001b[39;49m\u001b[38;5;124;43m'\u001b[39;49m)\n",
      "\u001b[1;31mTypeError\u001b[0m: unsupported operand type(s) for |: 'str' and 'str'"
     ]
    }
   ],
   "source": [
    "print('mustknow'|'getto')"
   ]
  },
  {
   "cell_type": "code",
   "execution_count": null,
   "id": "72974deb",
   "metadata": {},
   "outputs": [],
   "source": [
    "mustknow={1,3,4,5,3,5,7,9,10,34}\n",
    "getto={2,4,5,10,34,5}\n",
    "hamile={2,3,5,1,2,7,8}\n"
   ]
  },
  {
   "cell_type": "code",
   "execution_count": null,
   "id": "87a031ca",
   "metadata": {},
   "outputs": [],
   "source": [
    "combine=mustknow & getto\n",
    "combine"
   ]
  },
  {
   "cell_type": "code",
   "execution_count": null,
   "id": "7adbf07f",
   "metadata": {},
   "outputs": [],
   "source": [
    "mustknow|getto"
   ]
  },
  {
   "cell_type": "code",
   "execution_count": null,
   "id": "6e7236c4",
   "metadata": {},
   "outputs": [],
   "source": []
  },
  {
   "cell_type": "code",
   "execution_count": null,
   "id": "22e80dbe",
   "metadata": {},
   "outputs": [],
   "source": [
    "print(mustknow)"
   ]
  },
  {
   "cell_type": "code",
   "execution_count": null,
   "id": "c392e46d",
   "metadata": {},
   "outputs": [],
   "source": [
    "1,2,3 in mustknow"
   ]
  },
  {
   "cell_type": "code",
   "execution_count": null,
   "id": "a78d3456",
   "metadata": {},
   "outputs": [],
   "source": [
    "print(mustknow)\n",
    "print(getto)\n",
    "print(hamile)\n",
    "\n",
    "mustknow^getto"
   ]
  },
  {
   "cell_type": "code",
   "execution_count": null,
   "id": "11f0ffaf",
   "metadata": {},
   "outputs": [],
   "source": [
    "mustknow&getto&hamile"
   ]
  },
  {
   "cell_type": "code",
   "execution_count": null,
   "id": "00969832",
   "metadata": {},
   "outputs": [],
   "source": [
    "print(mustknow)\n",
    "print(getto)\n",
    "print(hamile)\n",
    "\n",
    "how=mustknow.union(getto)\n",
    "how"
   ]
  },
  {
   "cell_type": "code",
   "execution_count": null,
   "id": "dbdc1c81",
   "metadata": {},
   "outputs": [],
   "source": [
    "1,2,3 in mustknow"
   ]
  },
  {
   "cell_type": "code",
   "execution_count": null,
   "id": "ba1858c5",
   "metadata": {},
   "outputs": [],
   "source": [
    "(1 or 2 or 3) in mustknow"
   ]
  },
  {
   "cell_type": "code",
   "execution_count": null,
   "id": "a77ef1e4",
   "metadata": {},
   "outputs": [],
   "source": [
    "food=['ginger', 'mushroom', 'plantain']\n",
    "fast=['morning', 'afternoon', 'evening']\n",
    "\n",
    "together=fast + food\n",
    "print(together)"
   ]
  },
  {
   "cell_type": "markdown",
   "id": "b5d7b57a",
   "metadata": {},
   "source": [
    "# Learning If statement"
   ]
  },
  {
   "cell_type": "code",
   "execution_count": null,
   "id": "5f20a21b",
   "metadata": {},
   "outputs": [],
   "source": [
    "if 2 in hamile:\n",
    "    print('present')\n",
    "#food.append('yam')\n",
    "#del(food)\n",
    "food=['yam', 'rice', 'cassava']\n",
    "food.remove('cassava')\n",
    "food.append('cassava')\n",
    "del food[2]\n",
    "food"
   ]
  },
  {
   "cell_type": "code",
   "execution_count": null,
   "id": "29cf0ff0",
   "metadata": {},
   "outputs": [],
   "source": [
    "if hamile in mustknow:\n",
    "    print('Together')\n",
    "if hamile!=hamile:\n",
    "    print('As one')\n",
    "elif 'yam' not in food and leisure_jobs.keys():\n",
    "        print('Aha!')\n",
    "elif (2,3,6) in mustknow:\n",
    "    print('found')\n",
    "elif (1,2,34) in getto:\n",
    "    print('gotcha')\n",
    "else:\n",
    "    print('Not found')"
   ]
  },
  {
   "cell_type": "code",
   "execution_count": null,
   "id": "de9a46c6",
   "metadata": {},
   "outputs": [],
   "source": [
    "'food' in leisure_jobs.keys()"
   ]
  },
  {
   "cell_type": "code",
   "execution_count": null,
   "id": "e7b69364",
   "metadata": {},
   "outputs": [],
   "source": [
    "food.remove('plantain')\n",
    "food"
   ]
  },
  {
   "cell_type": "code",
   "execution_count": null,
   "id": "386eee42",
   "metadata": {},
   "outputs": [],
   "source": [
    "Clothes= {'Up': 'addidas', 'down': 'Khaki', 'boxer':'puma', 'socks':'nike'}\n",
    "Clothes"
   ]
  },
  {
   "cell_type": "code",
   "execution_count": null,
   "id": "1bcf2266",
   "metadata": {},
   "outputs": [],
   "source": [
    "(Clothes.keys())\n",
    "Clothes.values()\n",
    "Clothes.update({'shoe':'local'})\n",
    "print(Clothes)"
   ]
  },
  {
   "cell_type": "code",
   "execution_count": null,
   "id": "6eec6bbb",
   "metadata": {},
   "outputs": [],
   "source": [
    "Clothes== Clothes"
   ]
  },
  {
   "cell_type": "code",
   "execution_count": null,
   "id": "48a0a3fc",
   "metadata": {},
   "outputs": [],
   "source": [
    "if 'Sandals' in Clothes.values():\n",
    "    print('Found')\n",
    "elif 'Kaba' in Clothes.values():\n",
    "    print('kaba')\n",
    "else: \n",
    "    Clothes.update({'sandals':'Bawa'})\n",
    "    \n",
    "    print(Clothes)"
   ]
  },
  {
   "cell_type": "code",
   "execution_count": null,
   "id": "ead16ac8",
   "metadata": {},
   "outputs": [],
   "source": [
    "del.food"
   ]
  },
  {
   "cell_type": "code",
   "execution_count": null,
   "id": "17f93f65",
   "metadata": {},
   "outputs": [],
   "source": [
    "gogo=[1,2,2,3]\n",
    "del gogo\n",
    "gogo"
   ]
  },
  {
   "cell_type": "code",
   "execution_count": null,
   "id": "f1b4195f",
   "metadata": {},
   "outputs": [],
   "source": [
    "print(food)"
   ]
  },
  {
   "cell_type": "code",
   "execution_count": null,
   "id": "cd3c00a6",
   "metadata": {},
   "outputs": [],
   "source": [
    "Clothes\n"
   ]
  },
  {
   "cell_type": "code",
   "execution_count": null,
   "id": "611b05d8",
   "metadata": {},
   "outputs": [],
   "source": [
    "burger=['ham','cheese','toritoes']\n",
    "burger"
   ]
  },
  {
   "cell_type": "markdown",
   "id": "d0ce5c5f",
   "metadata": {},
   "source": [
    "# Learning For Loop"
   ]
  },
  {
   "cell_type": "code",
   "execution_count": null,
   "id": "9da19c31",
   "metadata": {},
   "outputs": [],
   "source": [
    "for shirts, one in Clothes.items():\n",
    "    for eat in burger:\n",
    "        print('1', shirts, one,eat)"
   ]
  },
  {
   "cell_type": "code",
   "execution_count": null,
   "id": "2c513836",
   "metadata": {},
   "outputs": [],
   "source": [
    "burger\n"
   ]
  },
  {
   "cell_type": "code",
   "execution_count": null,
   "id": "81d6a78e",
   "metadata": {},
   "outputs": [],
   "source": [
    "burger=['ham', 'cheese', 'toritoes']\n",
    "\n",
    "for item in burger:\n",
    "    print(item,'good')"
   ]
  },
  {
   "cell_type": "code",
   "execution_count": null,
   "id": "1ce15163",
   "metadata": {},
   "outputs": [],
   "source": [
    "burger=['ham', 'cheese', 'toritoes']\n",
    "number=0\n",
    "\n",
    "while 'ham' in burger and number <9:\n",
    "    number=number+1\n",
    "    if number==2:\n",
    "        break\n",
    "    print(number, burger)\n",
    "  "
   ]
  },
  {
   "cell_type": "code",
   "execution_count": null,
   "id": "78425415",
   "metadata": {},
   "outputs": [],
   "source": [
    "number=0\n",
    "for ham in burger:\n",
    "    number=number +1\n",
    "    print(number,burger[0],number +1, burger[1])\n",
    "    print(number +2, burger[2])\n",
    "    break"
   ]
  },
  {
   "cell_type": "code",
   "execution_count": null,
   "id": "cff81759",
   "metadata": {},
   "outputs": [],
   "source": [
    "print(burger)"
   ]
  },
  {
   "cell_type": "markdown",
   "id": "7570008c",
   "metadata": {},
   "source": [
    "# Learning Functions"
   ]
  },
  {
   "cell_type": "code",
   "execution_count": null,
   "id": "20384455",
   "metadata": {},
   "outputs": [],
   "source": [
    "def square_root (number,power):\n",
    "    print(number**power)"
   ]
  },
  {
   "cell_type": "code",
   "execution_count": null,
   "id": "7712701a",
   "metadata": {},
   "outputs": [],
   "source": [
    "square_root(number=9,power=2)"
   ]
  },
  {
   "cell_type": "code",
   "execution_count": null,
   "id": "91e759ff",
   "metadata": {},
   "outputs": [],
   "source": [
    "print(9/2)"
   ]
  },
  {
   "cell_type": "code",
   "execution_count": 39,
   "id": "3e785048",
   "metadata": {},
   "outputs": [],
   "source": [
    "yoga=(1,2,3,4,5,6)\n",
    "def hum(*uni):\n",
    "    print(uni[1]*uni[4])"
   ]
  },
  {
   "cell_type": "code",
   "execution_count": 41,
   "id": "726780d1",
   "metadata": {},
   "outputs": [
    {
     "name": "stdout",
     "output_type": "stream",
     "text": [
      "10\n"
     ]
    },
    {
     "data": {
      "text/plain": [
       "tuple"
      ]
     },
     "execution_count": 41,
     "metadata": {},
     "output_type": "execute_result"
    }
   ],
   "source": [
    "hum(*yoga)\n",
    "type(yoga)"
   ]
  },
  {
   "cell_type": "code",
   "execution_count": null,
   "id": "76842658",
   "metadata": {},
   "outputs": [],
   "source": [
    "type(list(yoga))\n",
    "type(yoga)\n",
    "type(Newyoga)"
   ]
  },
  {
   "cell_type": "code",
   "execution_count": null,
   "id": "d8657400",
   "metadata": {},
   "outputs": [],
   "source": [
    "Newyoga=(list(yoga))\n",
    "type(Newyoga)"
   ]
  },
  {
   "cell_type": "code",
   "execution_count": 3,
   "id": "76b49db2",
   "metadata": {},
   "outputs": [],
   "source": [
    "know=('Park University', 'University of Tulsa')\n",
    "def school(name, not_name,sname): \n",
    "    print('The name of my school is the' + ' ' + name + ' ' +'not', not_name+' '+ 'because I had a scholarship at',sname)"
   ]
  },
  {
   "cell_type": "code",
   "execution_count": 5,
   "id": "4a61635f",
   "metadata": {},
   "outputs": [
    {
     "name": "stdout",
     "output_type": "stream",
     "text": [
      "The name of my school is the University of Tulsa not Park University because I had a scholarship at University of Tulsa\n"
     ]
    }
   ],
   "source": [
    "school(name=know[1], not_name=know[0],sname=know[1])"
   ]
  },
  {
   "cell_type": "code",
   "execution_count": null,
   "id": "524ec8bd",
   "metadata": {},
   "outputs": [],
   "source": [
    "types=['ampesi','cocoa','rice','suya']"
   ]
  },
  {
   "cell_type": "code",
   "execution_count": 37,
   "id": "27d3b3d8",
   "metadata": {},
   "outputs": [],
   "source": [
    "def food(**varieties):\n",
    "    print('I love to eat', varieties['food'], varieties['food1'] + ' and ' + varieties['food2'])\n",
    "    "
   ]
  },
  {
   "cell_type": "code",
   "execution_count": 38,
   "id": "bc8b50f4",
   "metadata": {},
   "outputs": [
    {
     "name": "stdout",
     "output_type": "stream",
     "text": [
      "I love to eat Yam kenkey and rice\n"
     ]
    }
   ],
   "source": [
    "food(food='Yam', food1='kenkey', food2='rice')"
   ]
  },
  {
   "cell_type": "code",
   "execution_count": 41,
   "id": "3c0356f1",
   "metadata": {},
   "outputs": [],
   "source": [
    "def school(**uni):\n",
    "    print('I prefer to attend', uni['sch'] + ' not ' + uni['sch1'] + ' because I got a scholarship at', uni['sch'])"
   ]
  },
  {
   "cell_type": "code",
   "execution_count": 43,
   "id": "78e04004",
   "metadata": {},
   "outputs": [
    {
     "name": "stdout",
     "output_type": "stream",
     "text": [
      "I prefer to attend the University of Tulsa not Park University because I got a scholarship at the University of Tulsa\n"
     ]
    }
   ],
   "source": [
    "school(sch='the University of Tulsa', sch1='Park University')"
   ]
  }
 ],
 "metadata": {
  "kernelspec": {
   "display_name": "Python 3 (ipykernel)",
   "language": "python",
   "name": "python3"
  },
  "language_info": {
   "codemirror_mode": {
    "name": "ipython",
    "version": 3
   },
   "file_extension": ".py",
   "mimetype": "text/x-python",
   "name": "python",
   "nbconvert_exporter": "python",
   "pygments_lexer": "ipython3",
   "version": "3.10.9"
  }
 },
 "nbformat": 4,
 "nbformat_minor": 5
}
