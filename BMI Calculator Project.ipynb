{
 "cells": [
  {
   "cell_type": "code",
   "execution_count": null,
   "id": "5837161a",
   "metadata": {},
   "outputs": [],
   "source": [
    "#BMI Parameters\n",
    "\n",
    "#Underweight: BMI is less than 18.5\n",
    "#Normal weight: BMI is 18.5 to 24.9\n",
    "#Overweight: BMI is 25 to 29.9\n",
    "#Obese: BMI is 30 or more"
   ]
  },
  {
   "cell_type": "markdown",
   "id": "6bbb1d32",
   "metadata": {},
   "source": [
    "# Using a Function to create a BMI calculator"
   ]
  },
  {
   "cell_type": "code",
   "execution_count": null,
   "id": "edbd976d",
   "metadata": {},
   "outputs": [],
   "source": [
    "def BMI (weight, height):\n",
    "    #weight in pounds and height in cm\n",
    "    answer=((weight*703)/(height*height))\n",
    "    wm='pounds'\n",
    "    hm='cm'\n",
    "    if answer < 18.5:\n",
    "        print('With a weight of', str(round(answer,1)),wm + ' and a height of', height, hm + ' you are underweight')\n",
    "    elif answer < 25:\n",
    "        print('With a weight of', str(round(answer,1)),wm +' and a height of', height, hm + ' you are have a normal weight')\n",
    "    elif answer <30:\n",
    "        print('With a weight of', str(round(answer,1)), wm + ' and a height of', height, hm + ' you are overweight')\n",
    "    elif answer >30:\n",
    "        print('With a weight of', str(round(answer,1)),wm + ' and a height of', height, hm + ' you are obese')\n",
    "    else:\n",
    "        print('enter the right values')"
   ]
  },
  {
   "cell_type": "markdown",
   "id": "2f19709f",
   "metadata": {},
   "source": [
    "# Testing Code"
   ]
  },
  {
   "cell_type": "code",
   "execution_count": 28,
   "id": "d5e44982",
   "metadata": {},
   "outputs": [
    {
     "name": "stdout",
     "output_type": "stream",
     "text": [
      "With a weight of 21.5 pounds and a height of 70 cm you are have a normal weight\n"
     ]
    }
   ],
   "source": [
    "BMI(weight=150,height=70)"
   ]
  },
  {
   "cell_type": "markdown",
   "id": "62191e43",
   "metadata": {},
   "source": [
    "# Code Successful"
   ]
  },
  {
   "cell_type": "code",
   "execution_count": null,
   "id": "407f2ff8",
   "metadata": {},
   "outputs": [],
   "source": []
  },
  {
   "cell_type": "markdown",
   "id": "f27871e5",
   "metadata": {},
   "source": [
    "# Setting Up BMI Calculator without using functions"
   ]
  },
  {
   "cell_type": "code",
   "execution_count": 41,
   "id": "b6f98400",
   "metadata": {},
   "outputs": [
    {
     "name": "stdout",
     "output_type": "stream",
     "text": [
      "Enter your weight in pounds: 150\n",
      "Enter your height in cm: 70\n",
      "Your weight and height indicates a BMI of 21.5 which shows that you have a normal weight\n"
     ]
    }
   ],
   "source": [
    "weight= int(input('Enter your weight in pounds: '))\n",
    "height= int(input('Enter your height in cm: '))\n",
    "BMI=round((weight*703)/(height*height),1)\n",
    "\n",
    "if BMI <18.5:\n",
    "    print('Your weight and height indicates a BMI of',str(BMI) + ' which shows that you are underweight')\n",
    "    \n",
    "elif BMI < 25:\n",
    "    print('Your weight and height indicates a BMI of',str(BMI) + ' which shows that you have a normal weight')\n",
    "elif BMI < 30:\n",
    "    print('Your weight and height indicates a BMI of',str(BMI) + ' which shows that you are overweight')\n",
    "elif BMI > 30:\n",
    "    print ('Your weight and height indicates a BMI of',str(BMI)+ ' which shows that you are obeseweight')\n",
    "else:\n",
    "    print('check your figures well')"
   ]
  },
  {
   "cell_type": "markdown",
   "id": "7444c50f",
   "metadata": {},
   "source": [
    "# Code Successful"
   ]
  },
  {
   "cell_type": "code",
   "execution_count": null,
   "id": "a57402bf",
   "metadata": {},
   "outputs": [],
   "source": []
  },
  {
   "cell_type": "code",
   "execution_count": null,
   "id": "b205edfe",
   "metadata": {},
   "outputs": [],
   "source": []
  },
  {
   "cell_type": "code",
   "execution_count": null,
   "id": "1f689faf",
   "metadata": {},
   "outputs": [],
   "source": []
  },
  {
   "cell_type": "code",
   "execution_count": null,
   "id": "e13f2162",
   "metadata": {},
   "outputs": [],
   "source": []
  }
 ],
 "metadata": {
  "kernelspec": {
   "display_name": "Python 3 (ipykernel)",
   "language": "python",
   "name": "python3"
  },
  "language_info": {
   "codemirror_mode": {
    "name": "ipython",
    "version": 3
   },
   "file_extension": ".py",
   "mimetype": "text/x-python",
   "name": "python",
   "nbconvert_exporter": "python",
   "pygments_lexer": "ipython3",
   "version": "3.10.9"
  }
 },
 "nbformat": 4,
 "nbformat_minor": 5
}
