{
 "cells": [
  {
   "cell_type": "markdown",
   "id": "98d66ca0",
   "metadata": {},
   "source": [
    "# Building an Automatic File Sorter in File Explorer"
   ]
  },
  {
   "cell_type": "code",
   "execution_count": 82,
   "id": "2878d997",
   "metadata": {},
   "outputs": [],
   "source": [
    "import os, shutil\n",
    "\n",
    "path = 'D:/School Stuff/tutorials/Python/Files/'\n",
    "\n",
    "list_file = os.listdir (path)\n",
    "\n",
    "file_names =['Pdf Files', 'Image Files', 'Word Files']\n",
    "\n",
    "for loop in range(0,3):\n",
    "    folder_path=os.path.join(path,file_names[loop])\n",
    "    if not os.path.exists(folder_path):\n",
    "        os.makedirs (folder_path)\n",
    "        \n",
    "for file in list_file:\n",
    "    \n",
    "    \n",
    "    if file.endswith('.pdf'): \n",
    "        source_file=os.path.join(path, file)\n",
    "        destination_file=os.path.join(path, 'Pdf Files',file)\n",
    "        shutil.move(source_file,destination_file)\n",
    "        \n",
    "    elif file.endswith('.docx'):\n",
    "        source_file=os.path.join(path, file)\n",
    "        destination_file=os.path.join(path, 'Word Files', file)\n",
    "        shutil.move(source_file,destination_file)\n",
    "        \n",
    "    elif file.endswith('.jpg'):\n",
    "        source_file=os.path.join(path, file)\n",
    "        destination_file=os.path.join(path, 'Image Files',file)\n",
    "        shutil.move(source_file,destination_file)\n",
    "    "
   ]
  },
  {
   "cell_type": "code",
   "execution_count": null,
   "id": "c3641838",
   "metadata": {},
   "outputs": [],
   "source": []
  }
 ],
 "metadata": {
  "kernelspec": {
   "display_name": "Python 3 (ipykernel)",
   "language": "python",
   "name": "python3"
  },
  "language_info": {
   "codemirror_mode": {
    "name": "ipython",
    "version": 3
   },
   "file_extension": ".py",
   "mimetype": "text/x-python",
   "name": "python",
   "nbconvert_exporter": "python",
   "pygments_lexer": "ipython3",
   "version": "3.10.9"
  }
 },
 "nbformat": 4,
 "nbformat_minor": 5
}
